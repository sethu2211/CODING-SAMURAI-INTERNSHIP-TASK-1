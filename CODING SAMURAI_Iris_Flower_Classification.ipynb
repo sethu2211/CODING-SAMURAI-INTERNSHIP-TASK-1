{
  "nbformat": 4,
  "nbformat_minor": 0,
  "metadata": {
    "colab": {
      "provenance": [],
      "authorship_tag": "ABX9TyNatHCaUVuW+m0oAHY4JCaV",
      "include_colab_link": true
    },
    "kernelspec": {
      "name": "python3",
      "display_name": "Python 3"
    },
    "language_info": {
      "name": "python"
    }
  },
  "cells": [
    {
      "cell_type": "markdown",
      "metadata": {
        "id": "view-in-github",
        "colab_type": "text"
      },
      "source": [
        "<a href=\"https://colab.research.google.com/github/sethu2211/Iris-Flower-Classification-Dataset/blob/main/aidTech_Iris_Flower_Classification.ipynb\" target=\"_parent\"><img src=\"https://colab.research.google.com/assets/colab-badge.svg\" alt=\"Open In Colab\"/></a>"
      ]
    },
    {
      "cell_type": "code",
      "source": [
        "import warnings\n",
        "warnings.filterwarnings(\"ignore\", message=\"X does not have valid feature names, but KNeighborsClassifier was fitted with feature names\")\n",
        "\n",
        "# Step 1: Pre-process the dataset\n",
        "from sklearn.model_selection import train_test_split\n",
        "X = df.drop('species', axis=1)\n",
        "y = df['species']\n",
        "X_train, X_test, y_train, y_test = train_test_split(X, y, test_size=0.2, random_state=42)\n",
        "\n",
        "# Step 2: Choose a machine learning algorithm; For this example, let's use the k-nearest neighbors (KNN) algorithm.\n",
        "from sklearn.neighbors import KNeighborsClassifier\n",
        "knn_classifier = KNeighborsClassifier(n_neighbors=3)\n",
        "\n",
        "# Step 3: Train the model\n",
        "knn_classifier.fit(X_train, y_train)\n",
        "\n",
        "# Step 4: Evaluate the model\n",
        "from sklearn.metrics import accuracy_score\n",
        "y_pred = knn_classifier.predict(X_test)\n",
        "accuracy = accuracy_score(y_test, y_pred)\n",
        "print(f\"Accuracy: {accuracy:.2f}\")\n",
        "\n",
        "# Step 5: Make predictions on new data\n",
        "# Provide sepal length, sepal width, petal length, petal width\n",
        "new_data = [[5.1, 3.5, 1.4, 0.2]]\n",
        "predicted_species = knn_classifier.predict(new_data)\n",
        "print(f\"Predicted species: {predicted_species[0]}\")\n"
      ],
      "metadata": {
        "colab": {
          "base_uri": "https://localhost:8080/"
        },
        "id": "tPOrL-mf19xO",
        "outputId": "b07fec99-9993-4705-bc6f-5c7748b501c3"
      },
      "execution_count": 2,
      "outputs": [
        {
          "output_type": "stream",
          "name": "stdout",
          "text": [
            "Accuracy: 1.00\n",
            "Predicted species: setosa\n"
          ]
        }
      ]
    },
    {
      "cell_type": "code",
      "source": [],
      "metadata": {
        "id": "-qLfrby63VoY"
      },
      "execution_count": null,
      "outputs": []
    }
  ]
}